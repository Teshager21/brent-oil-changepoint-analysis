{
 "cells": [
  {
   "cell_type": "code",
   "execution_count": 1,
   "id": "28a47337",
   "metadata": {},
   "outputs": [],
   "source": [
    "import arviz as az\n",
    "import pandas as pd\n",
    "import numpy as np\n",
    "import matplotlib.pyplot as plt\n",
    "import json"
   ]
  },
  {
   "cell_type": "code",
   "execution_count": 2,
   "id": "8e8aa91f",
   "metadata": {},
   "outputs": [],
   "source": [
    "# Load trace and data\n",
    "trace = az.from_netcdf(\"../../data/bcp_trace.nc\")\n",
    "df = pd.read_csv(\"../../data/interim/brent_oil_log_returns.csv\")\n",
    "df['Date'] = pd.to_datetime(df['Date'])\n",
    "dates_lr = df['Date'].iloc[1:]\n"
   ]
  },
  {
   "cell_type": "code",
   "execution_count": 3,
   "id": "6ee9e063",
   "metadata": {},
   "outputs": [
    {
     "ename": "KeyError",
     "evalue": "\"No variable named 'tau'. Did you mean one of ('taus',)?\"",
     "output_type": "error",
     "traceback": [
      "\u001b[31m---------------------------------------------------------------------------\u001b[39m",
      "\u001b[31mKeyError\u001b[39m                                  Traceback (most recent call last)",
      "\u001b[32m~/Documents/projects/10Academy/brent-oil-changepoint-analysis/venv/lib/python3.12/site-packages/xarray/core/dataset.py\u001b[39m in \u001b[36m?\u001b[39m\u001b[34m(self, name)\u001b[39m\n\u001b[32m   1154\u001b[39m             variable = self._variables[name]\n\u001b[32m   1155\u001b[39m         \u001b[38;5;28;01mexcept\u001b[39;00m KeyError:\n\u001b[32m-> \u001b[39m\u001b[32m1156\u001b[39m             _, name, variable = _get_virtual_variable(self._variables, name, self.sizes)\n\u001b[32m   1157\u001b[39m \n",
      "\u001b[31mKeyError\u001b[39m: 'tau'",
      "\nDuring handling of the above exception, another exception occurred:\n",
      "\u001b[31mKeyError\u001b[39m                                  Traceback (most recent call last)",
      "\u001b[36mFile \u001b[39m\u001b[32m~/Documents/projects/10Academy/brent-oil-changepoint-analysis/venv/lib/python3.12/site-packages/xarray/core/dataset.py:1261\u001b[39m, in \u001b[36mDataset.__getitem__\u001b[39m\u001b[34m(self, key)\u001b[39m\n\u001b[32m   1260\u001b[39m \u001b[38;5;28;01mtry\u001b[39;00m:\n\u001b[32m-> \u001b[39m\u001b[32m1261\u001b[39m     \u001b[38;5;28;01mreturn\u001b[39;00m \u001b[38;5;28;43mself\u001b[39;49m\u001b[43m.\u001b[49m\u001b[43m_construct_dataarray\u001b[49m\u001b[43m(\u001b[49m\u001b[43mkey\u001b[49m\u001b[43m)\u001b[49m\n\u001b[32m   1262\u001b[39m \u001b[38;5;28;01mexcept\u001b[39;00m \u001b[38;5;167;01mKeyError\u001b[39;00m \u001b[38;5;28;01mas\u001b[39;00m e:\n",
      "\u001b[36mFile \u001b[39m\u001b[32m~/Documents/projects/10Academy/brent-oil-changepoint-analysis/venv/lib/python3.12/site-packages/xarray/core/dataset.py:1156\u001b[39m, in \u001b[36mDataset._construct_dataarray\u001b[39m\u001b[34m(self, name)\u001b[39m\n\u001b[32m   1155\u001b[39m \u001b[38;5;28;01mexcept\u001b[39;00m \u001b[38;5;167;01mKeyError\u001b[39;00m:\n\u001b[32m-> \u001b[39m\u001b[32m1156\u001b[39m     _, name, variable = \u001b[43m_get_virtual_variable\u001b[49m\u001b[43m(\u001b[49m\u001b[38;5;28;43mself\u001b[39;49m\u001b[43m.\u001b[49m\u001b[43m_variables\u001b[49m\u001b[43m,\u001b[49m\u001b[43m \u001b[49m\u001b[43mname\u001b[49m\u001b[43m,\u001b[49m\u001b[43m \u001b[49m\u001b[38;5;28;43mself\u001b[39;49m\u001b[43m.\u001b[49m\u001b[43msizes\u001b[49m\u001b[43m)\u001b[49m\n\u001b[32m   1158\u001b[39m needed_dims = \u001b[38;5;28mset\u001b[39m(variable.dims)\n",
      "\u001b[36mFile \u001b[39m\u001b[32m~/Documents/projects/10Academy/brent-oil-changepoint-analysis/venv/lib/python3.12/site-packages/xarray/core/dataset_utils.py:79\u001b[39m, in \u001b[36m_get_virtual_variable\u001b[39m\u001b[34m(variables, key, dim_sizes)\u001b[39m\n\u001b[32m     78\u001b[39m \u001b[38;5;28;01mif\u001b[39;00m \u001b[38;5;28mlen\u001b[39m(split_key) != \u001b[32m2\u001b[39m:\n\u001b[32m---> \u001b[39m\u001b[32m79\u001b[39m     \u001b[38;5;28;01mraise\u001b[39;00m \u001b[38;5;167;01mKeyError\u001b[39;00m(key)\n\u001b[32m     81\u001b[39m ref_name, var_name = split_key\n",
      "\u001b[31mKeyError\u001b[39m: 'tau'",
      "\nThe above exception was the direct cause of the following exception:\n",
      "\u001b[31mKeyError\u001b[39m                                  Traceback (most recent call last)",
      "\u001b[32m/tmp/ipykernel_59841/3452509230.py\u001b[39m in \u001b[36m?\u001b[39m\u001b[34m()\u001b[39m\n\u001b[32m      1\u001b[39m \u001b[38;5;66;03m# Most probable change point\u001b[39;00m\n\u001b[32m----> \u001b[39m\u001b[32m2\u001b[39m tau_samples = trace.posterior[\u001b[33m'tau'\u001b[39m].values.flatten()\n\u001b[32m      3\u001b[39m tau_median = int(np.median(tau_samples))\n\u001b[32m      4\u001b[39m change_date = dates_lr.iloc[tau_median]\n\u001b[32m      5\u001b[39m print(f\"Most probable change point: {change_date.strftime(\u001b[33m'%Y-%m-%d'\u001b[39m)}\")\n",
      "\u001b[32m~/Documents/projects/10Academy/brent-oil-changepoint-analysis/venv/lib/python3.12/site-packages/xarray/core/dataset.py\u001b[39m in \u001b[36m?\u001b[39m\u001b[34m(self, key)\u001b[39m\n\u001b[32m   1270\u001b[39m \n\u001b[32m   1271\u001b[39m                 \u001b[38;5;66;03m# If someone attempts `ds['foo' , 'bar']` instead of `ds[['foo', 'bar']]`\u001b[39;00m\n\u001b[32m   1272\u001b[39m                 \u001b[38;5;28;01mif\u001b[39;00m isinstance(key, tuple):\n\u001b[32m   1273\u001b[39m                     message += f\"\\nHint: use a list to select multiple variables, for example `ds[{list(key)}]`\"\n\u001b[32m-> \u001b[39m\u001b[32m1274\u001b[39m                 \u001b[38;5;28;01mraise\u001b[39;00m KeyError(message) \u001b[38;5;28;01mfrom\u001b[39;00m e\n\u001b[32m   1275\u001b[39m \n\u001b[32m   1276\u001b[39m         \u001b[38;5;28;01mif\u001b[39;00m utils.iterable_of_hashable(key):\n\u001b[32m   1277\u001b[39m             \u001b[38;5;28;01mreturn\u001b[39;00m self._copy_listed(key)\n",
      "\u001b[31mKeyError\u001b[39m: \"No variable named 'tau'. Did you mean one of ('taus',)?\""
     ]
    }
   ],
   "source": [
    "# Most probable change point\n",
    "tau_samples = trace.posterior['tau'].values.flatten()\n",
    "tau_median = int(np.median(tau_samples))\n",
    "change_date = dates_lr.iloc[tau_median]\n",
    "print(f\"Most probable change point: {change_date.strftime('%Y-%m-%d')}\")"
   ]
  },
  {
   "cell_type": "code",
   "execution_count": null,
   "id": "60660ea5",
   "metadata": {},
   "outputs": [
    {
     "name": "stdout",
     "output_type": "stream",
     "text": [
      "Mean log return before: 0.00035\n",
      "Mean log return after: -0.00007\n",
      "Approximate daily price shift: -0.04%\n"
     ]
    }
   ],
   "source": [
    "# Compare means\n",
    "mu_1 = trace.posterior['mu_1'].values.flatten()\n",
    "mu_2 = trace.posterior['mu_2'].values.flatten()\n",
    "mean_mu_1 = np.mean(mu_1)\n",
    "mean_mu_2 = np.mean(mu_2)\n",
    "\n",
    "price_change_pct = (np.exp(mean_mu_2) - np.exp(mean_mu_1)) * 100\n",
    "\n",
    "print(f\"Mean log return before: {mean_mu_1:.5f}\")\n",
    "print(f\"Mean log return after: {mean_mu_2:.5f}\")\n",
    "print(f\"Approximate daily price shift: {price_change_pct:.2f}%\")"
   ]
  },
  {
   "cell_type": "code",
   "execution_count": null,
   "id": "e55a1da4",
   "metadata": {},
   "outputs": [
    {
     "name": "stdout",
     "output_type": "stream",
     "text": [
      "Detected change point: 2008-08-04 00:00:00\n"
     ]
    }
   ],
   "source": [
    "print(f\"Detected change point: {change_date}\")"
   ]
  },
  {
   "cell_type": "code",
   "execution_count": null,
   "id": "bd92b561",
   "metadata": {},
   "outputs": [
    {
     "name": "stdout",
     "output_type": "stream",
     "text": [
      "\n",
      "All key events and their distance from changepoint:\n",
      "2008-09-15 (Global Financial Crisis): -42 days\n",
      "2010-01-01 (Arab Spring unrest): -515 days\n",
      "2011-03-15 (Libyan Civil War): -953 days\n",
      "2014-11-01 (OPEC production stance change): -2280 days\n",
      "2016-01-01 (Iran sanctions lifted): -2706 days\n",
      "2018-10-01 (US Iran sanctions reimposed): -3710 days\n",
      "2019-09-14 (Saudi Aramco attack): -4058 days\n",
      "2020-03-08 (Russia–Saudi oil price war): -4234 days\n",
      "2020-04-20 (WTI negative pricing): -4277 days\n",
      "2021-03-01 (Post‑COVID demand rebound): -4592 days\n",
      "2022-02-24 (Russia‑Ukraine war): -4952 days\n",
      "2025-06-01 (Israel‑Iran escalation (2025)): -6145 days\n"
     ]
    }
   ],
   "source": [
    "print(\"\\nAll key events and their distance from changepoint:\")\n",
    "for date, name in events.items():\n",
    "    event_date = pd.to_datetime(date)\n",
    "    delta = (change_date - event_date).days\n",
    "    print(f\"{event_date.date()} ({name}): {delta:+} days\")"
   ]
  },
  {
   "cell_type": "code",
   "execution_count": null,
   "id": "f3ae9d65",
   "metadata": {},
   "outputs": [
    {
     "name": "stdout",
     "output_type": "stream",
     "text": [
      "\n",
      "Possible matching events:\n",
      "2008-09-15 (Global Financial Crisis) — -42 days from change point\n"
     ]
    }
   ],
   "source": [
    "# Load key events and compare\n",
    "with open('../../data/key_events.json') as f:\n",
    "    events = json.load(f)\n",
    "\n",
    "print(\"\\nPossible matching events:\")\n",
    "for date, name in events.items():\n",
    "    delta = (change_date - pd.to_datetime(date)).days\n",
    "    if abs(delta) <= 60:\n",
    "        print(f\"{date} ({name}) — {delta:+} days from change point\")"
   ]
  },
  {
   "cell_type": "markdown",
   "id": "aeed9166",
   "metadata": {},
   "source": [
    "The detected changepoint (Oct 27, 2008) lags the Global Financial Crisis trigger event (Lehman Brothers collapse on Sep 15, 2008) by ~42 days.\n",
    "This lag is consistent with the delay between macroeconomic shocks and market response in commodity prices such as oil."
   ]
  },
  {
   "cell_type": "code",
   "execution_count": null,
   "id": "d1a341f4",
   "metadata": {},
   "outputs": [
    {
     "name": "stdout",
     "output_type": "stream",
     "text": [
      "Pre-change mean: 29.659649155374048 Std: 21.647428165108998\n",
      "Post-change mean: 76.30881346578367 Std: 26.217443297658537\n"
     ]
    }
   ],
   "source": [
    "# Get changepoint index\n",
    "tau = int(trace.posterior['tau'].mean())\n",
    "pre_change = df.iloc[:tau]['Price']\n",
    "post_change = df.iloc[tau:]['Price']\n",
    "\n",
    "print(\"Pre-change mean:\", pre_change.mean(), \"Std:\", pre_change.std())\n",
    "print(\"Post-change mean:\", post_change.mean(), \"Std:\", post_change.std())"
   ]
  },
  {
   "cell_type": "code",
   "execution_count": null,
   "id": "bac20c65",
   "metadata": {},
   "outputs": [
    {
     "data": {
      "image/png": "[encoded data removed]",
      "text/plain": [
       "<Figure size 640x480 with 1 Axes>"
      ]
     },
     "metadata": {},
     "output_type": "display_data"
    }
   ],
   "source": [
    "plt.hist(pre_change, bins=30, alpha=0.6, label='Pre-Change')\n",
    "plt.hist(post_change, bins=30, alpha=0.6, label='Post-Change')\n",
    "plt.title(\"Price Distribution Before and After Change Point\")\n",
    "plt.legend()\n",
    "plt.show()"
   ]
  },
  {
   "cell_type": "markdown",
   "id": "b67b14b9",
   "metadata": {},
   "source": [
    "The histogram reveals a distinct structural shift in the Brent oil price series around the detected changepoint.\n",
    "\n",
    "Before the changepoint, prices were mostly stable and low, concentrated between $10 and $40. This suggests a relatively calm period with modest oil pricing.\n",
    "\n",
    "After the changepoint, prices increased dramatically, with significant volatility. The prices spread across a much wider range, peaking above $140. This shift likely reflects the early 2000s oil market boom leading up to the 2008 Financial Crisis.\n",
    "\n",
    "This evidence aligns with the changepoint identified by the Bayesian model and supports the hypothesis that external economic shocks significantly altered oil price dynamics."
   ]
  }
 ],
 "metadata": {
  "kernelspec": {
   "display_name": "venv (3.12.3)",
   "language": "python",
   "name": "python3"
  },
  "language_info": {
   "codemirror_mode": {
    "name": "ipython",
    "version": 3
   },
   "file_extension": ".py",
   "mimetype": "text/x-python",
   "name": "python",
   "nbconvert_exporter": "python",
   "pygments_lexer": "ipython3",
   "version": "3.12.3"
  }
 },
 "nbformat": 4,
 "nbformat_minor": 5
}
