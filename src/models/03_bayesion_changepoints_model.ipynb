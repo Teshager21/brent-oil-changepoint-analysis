{
 "cells": [
  {
   "cell_type": "code",
   "execution_count": 116,
   "id": "a473886b",
   "metadata": {},
   "outputs": [],
   "source": [
    "# 1. Imports\n",
    "import numpy as np\n",
    "import pandas as pd\n",
    "import pymc as pm\n",
    "import pytensor.tensor as pt\n",
    "import matplotlib.pyplot as plt\n",
    "import arviz as az\n",
    "from scipy.stats import mode"
   ]
  },
  {
   "cell_type": "code",
   "execution_count": 117,
   "id": "e3a4784e",
   "metadata": {},
   "outputs": [
    {
     "name": "stderr",
     "output_type": "stream",
     "text": [
      "/tmp/ipykernel_59877/2121933993.py:2: UserWarning: Could not infer format, so each element will be parsed individually, falling back to `dateutil`. To ensure parsing is consistent and as-expected, please specify a format.\n",
      "  df = pd.read_csv(\"../../data/raw/BrentOilPrices.csv\", parse_dates=[\"Date\"])\n"
     ]
    }
   ],
   "source": [
    "# 2. Load and Trim Data from 2008 onward\n",
    "df = pd.read_csv(\"../../data/raw/BrentOilPrices.csv\", parse_dates=[\"Date\"])\n",
    "df = df.dropna(subset=[\"Price\"])\n",
    "df = df.sort_values(\"Date\")\n",
    "\n",
    "# Only keep data from 2008 onward\n",
    "df = df[df[\"Date\"] >= \"2008-01-01\"].copy()\n",
    "\n",
    "# Extract values\n",
    "prices = df[\"Price\"].values\n",
    "dates = df[\"Date\"].values\n",
    "n = len(prices)"
   ]
  },
  {
   "cell_type": "code",
   "execution_count": 118,
   "id": "b4348c75",
   "metadata": {},
   "outputs": [],
   "source": [
    "# 3. Number of Change Points\n",
    "K = 8  # You can increase this to more if needed"
   ]
  },
  {
   "cell_type": "code",
   "execution_count": 119,
   "id": "3cbc6cd3",
   "metadata": {},
   "outputs": [],
   "source": [
    "# 4. Model\n",
    "with pm.Model() as model:\n",
    "    taus_unordered = pm.DiscreteUniform('taus_unordered', lower=0, upper=n-1, shape=K)\n",
    "    ordered_taus = pm.Deterministic('ordered_taus', pt.sort(taus_unordered))\n",
    "\n",
    "    mus = pm.Normal('mus', mu=np.mean(prices), sigma=20, shape=K + 1)\n",
    "    sigmas = pm.HalfNormal('sigmas', sigma=10, shape=K + 1)\n",
    "\n",
    "    idx = pt.arange(n)\n",
    "    mu_vals = pt.zeros(n)\n",
    "    sigma_vals = pt.zeros(n)\n",
    "\n",
    "    start = 0\n",
    "    for i in range(K):\n",
    "        end = ordered_taus[i]\n",
    "        mask = (idx >= start) & (idx < end)\n",
    "        mu_vals = pt.set_subtensor(mu_vals[mask], mus[i])\n",
    "        sigma_vals = pt.set_subtensor(sigma_vals[mask], sigmas[i])\n",
    "        start = end\n",
    "\n",
    "    mu_vals = pt.set_subtensor(mu_vals[idx >= start], mus[K])\n",
    "    sigma_vals = pt.set_subtensor(sigma_vals[idx >= start], sigmas[K])\n",
    "\n",
    "    y_obs = pm.Normal('y_obs', mu=mu_vals, sigma=sigma_vals, observed=prices)"
   ]
  },
  {
   "cell_type": "code",
   "execution_count": 120,
   "id": "b408952c",
   "metadata": {},
   "outputs": [
    {
     "name": "stderr",
     "output_type": "stream",
     "text": [
      "Multiprocess sampling (4 chains in 4 jobs)\n",
      "CompoundStep\n",
      ">Metropolis: [taus_unordered]\n",
      ">NUTS: [mus, sigmas]\n"
     ]
    },
    {
     "data": {
      "text/html": [
       "<pre style=\"white-space:pre;overflow-x:auto;line-height:normal;font-family:Menlo,'DejaVu Sans Mono',consolas,'Courier New',monospace\">/home/teshager/Documents/projects/10Academy/brent-oil-changepoint-analysis/venv/lib/python3.12/site-packages/rich/l\n",
       "ive.py:256: UserWarning: install \"ipywidgets\" for Jupyter support\n",
       "  warnings.warn('install \"ipywidgets\" for Jupyter support')\n",
       "</pre>\n"
      ],
      "text/plain": [
       "/home/teshager/Documents/projects/10Academy/brent-oil-changepoint-analysis/venv/lib/python3.12/site-packages/rich/l\n",
       "ive.py:256: UserWarning: install \"ipywidgets\" for Jupyter support\n",
       "  warnings.warn('install \"ipywidgets\" for Jupyter support')\n"
      ]
     },
     "metadata": {},
     "output_type": "display_data"
    },
    {
     "data": {
      "text/html": [
       "<pre style=\"white-space:pre;overflow-x:auto;line-height:normal;font-family:Menlo,'DejaVu Sans Mono',consolas,'Courier New',monospace\"></pre>\n"
      ],
      "text/plain": []
     },
     "metadata": {},
     "output_type": "display_data"
    },
    {
     "name": "stderr",
     "output_type": "stream",
     "text": [
      "Sampling 4 chains for 1_000 tune and 1_000 draw iterations (4_000 + 4_000 draws total) took 158 seconds.\n",
      "There were 1950 divergences after tuning. Increase `target_accept` or reparameterize.\n",
      "The rhat statistic is larger than 1.01 for some parameters. This indicates problems during sampling. See https://arxiv.org/abs/1903.08008 for details\n",
      "The effective sample size per chain is smaller than 100 for some parameters.  A higher number is needed for reliable rhat and ess computation. See https://arxiv.org/abs/1903.08008 for details\n"
     ]
    }
   ],
   "source": [
    "# 5. Sampling\n",
    "with model:\n",
    "    trace = pm.sample(1000, tune=1000, target_accept=0.95, return_inferencedata=True)"
   ]
  },
  {
   "cell_type": "code",
   "execution_count": 121,
   "id": "2e9fb8b6",
   "metadata": {},
   "outputs": [],
   "source": [
    "# 6. Extract change points\n",
    "taus_samples = trace.posterior['ordered_taus'].values.reshape(-1, K)\n",
    "mode_taus, _ = mode(taus_samples, axis=0, keepdims=False)\n",
    "unique_taus = np.unique(mode_taus)"
   ]
  },
  {
   "cell_type": "code",
   "execution_count": 122,
   "id": "a9126ba6",
   "metadata": {},
   "outputs": [
    {
     "name": "stdout",
     "output_type": "stream",
     "text": [
      "🔍 All detected change point dates:\n",
      "2014-12-08 00:00:00\n",
      "2015-04-16 00:00:00\n",
      "2015-06-15 00:00:00\n",
      "2015-07-06 00:00:00\n",
      "2015-08-03 00:00:00\n",
      "2015-08-21 00:00:00\n"
     ]
    }
   ],
   "source": [
    "# 7. Print detected change points\n",
    "print(\"🔍 All detected change point dates:\")\n",
    "for tau in unique_taus:\n",
    "    print(pd.to_datetime(dates[tau]))"
   ]
  },
  {
   "cell_type": "code",
   "execution_count": 123,
   "id": "af362fba",
   "metadata": {},
   "outputs": [
    {
     "name": "stdout",
     "output_type": "stream",
     "text": [
      "✅ Significant change points saved.\n"
     ]
    },
    {
     "name": "stderr",
     "output_type": "stream",
     "text": [
      "/tmp/ipykernel_59877/204905963.py:5: RuntimeWarning: Mean of empty slice.\n",
      "  segment_means = [prices[full_taus[i]:full_taus[i+1]].mean() for i in range(len(full_taus)-1)]\n",
      "/home/teshager/Documents/projects/10Academy/brent-oil-changepoint-analysis/venv/lib/python3.12/site-packages/numpy/core/_methods.py:129: RuntimeWarning: invalid value encountered in scalar divide\n",
      "  ret = ret.dtype.type(ret / rcount)\n"
     ]
    }
   ],
   "source": [
    "# Append start (0) and end (n) to get full segments\n",
    "full_taus = np.concatenate([[0], np.sort(mode_taus), [n]])\n",
    "\n",
    "# Calculate segment means\n",
    "segment_means = [prices[full_taus[i]:full_taus[i+1]].mean() for i in range(len(full_taus)-1)]\n",
    "\n",
    "# Calculate mean differences\n",
    "significant_taus = []\n",
    "for i in range(1, len(full_taus)-1):\n",
    "    mean_before = segment_means[i-1]\n",
    "    mean_after = segment_means[i]\n",
    "    delta = abs(mean_after - mean_before)\n",
    "\n",
    "    if delta >= 5:  # adjust threshold as needed\n",
    "        significant_taus.append(full_taus[i])\n",
    "\n",
    "# Save only significant change points\n",
    "change_points = [\n",
    "    {\n",
    "        \"change_point_index\": int(tau),\n",
    "        \"change_point_date\": str(pd.to_datetime(dates[tau]).date()),\n",
    "        \"event\": \"Auto-detected (significant)\",\n",
    "        \"description\": f\"ΔMean ≈ {round(abs(segment_means[i] - segment_means[i-1]), 2)}\"\n",
    "    }\n",
    "    for i, tau in enumerate(significant_taus)\n",
    "]\n",
    "\n",
    "change_points_df = pd.DataFrame(change_points)\n",
    "change_points_df.to_csv(\"../../data/processed/change_points.csv\", index=False)\n",
    "\n",
    "print(\"✅ Significant change points saved.\")\n"
   ]
  },
  {
   "cell_type": "code",
   "execution_count": 124,
   "id": "ce5a78c4",
   "metadata": {},
   "outputs": [
    {
     "data": {
      "text/html": [
       "<div>\n",
       "<style scoped>\n",
       "    .dataframe tbody tr th:only-of-type {\n",
       "        vertical-align: middle;\n",
       "    }\n",
       "\n",
       "    .dataframe tbody tr th {\n",
       "        vertical-align: top;\n",
       "    }\n",
       "\n",
       "    .dataframe thead th {\n",
       "        text-align: right;\n",
       "    }\n",
       "</style>\n",
       "<table border=\"1\" class=\"dataframe\">\n",
       "  <thead>\n",
       "    <tr style=\"text-align: right;\">\n",
       "      <th></th>\n",
       "      <th>change_point_index</th>\n",
       "      <th>change_point_date</th>\n",
       "      <th>event</th>\n",
       "      <th>description</th>\n",
       "    </tr>\n",
       "  </thead>\n",
       "  <tbody>\n",
       "    <tr>\n",
       "      <th>0</th>\n",
       "      <td>1743</td>\n",
       "      <td>2014-12-08</td>\n",
       "      <td>Auto-detected (significant)</td>\n",
       "      <td>ΔMean ≈ 33.32</td>\n",
       "    </tr>\n",
       "    <tr>\n",
       "      <th>1</th>\n",
       "      <td>1832</td>\n",
       "      <td>2015-04-16</td>\n",
       "      <td>Auto-detected (significant)</td>\n",
       "      <td>ΔMean ≈ 40.33</td>\n",
       "    </tr>\n",
       "    <tr>\n",
       "      <th>2</th>\n",
       "      <td>1908</td>\n",
       "      <td>2015-08-03</td>\n",
       "      <td>Auto-detected (significant)</td>\n",
       "      <td>ΔMean ≈ 7.67</td>\n",
       "    </tr>\n",
       "    <tr>\n",
       "      <th>3</th>\n",
       "      <td>1922</td>\n",
       "      <td>2015-08-21</td>\n",
       "      <td>Auto-detected (significant)</td>\n",
       "      <td>ΔMean ≈ 2.53</td>\n",
       "    </tr>\n",
       "  </tbody>\n",
       "</table>\n",
       "</div>"
      ],
      "text/plain": [
       "   change_point_index change_point_date                        event  \\\n",
       "0                1743        2014-12-08  Auto-detected (significant)   \n",
       "1                1832        2015-04-16  Auto-detected (significant)   \n",
       "2                1908        2015-08-03  Auto-detected (significant)   \n",
       "3                1922        2015-08-21  Auto-detected (significant)   \n",
       "\n",
       "     description  \n",
       "0  ΔMean ≈ 33.32  \n",
       "1  ΔMean ≈ 40.33  \n",
       "2   ΔMean ≈ 7.67  \n",
       "3   ΔMean ≈ 2.53  "
      ]
     },
     "execution_count": 124,
     "metadata": {},
     "output_type": "execute_result"
    }
   ],
   "source": [
    "change_points_df"
   ]
  },
  {
   "cell_type": "code",
   "execution_count": 125,
   "id": "ad34743c",
   "metadata": {},
   "outputs": [
    {
     "name": "stdout",
     "output_type": "stream",
     "text": [
      "🔍 All detected change point dates:\n",
      "2014-12-08 00:00:00\n",
      "2015-04-16 00:00:00\n",
      "2015-06-15 00:00:00\n",
      "2015-07-06 00:00:00\n",
      "2015-08-03 00:00:00\n",
      "2015-08-21 00:00:00\n"
     ]
    }
   ],
   "source": [
    "print(\"🔍 All detected change point dates:\")\n",
    "for tau in unique_taus:\n",
    "    print(pd.to_datetime(dates[tau]))\n"
   ]
  }
 ],
 "metadata": {
  "kernelspec": {
   "display_name": "venv (3.12.3)",
   "language": "python",
   "name": "python3"
  },
  "language_info": {
   "codemirror_mode": {
    "name": "ipython",
    "version": 3
   },
   "file_extension": ".py",
   "mimetype": "text/x-python",
   "name": "python",
   "nbconvert_exporter": "python",
   "pygments_lexer": "ipython3",
   "version": "3.12.3"
  }
 },
 "nbformat": 4,
 "nbformat_minor": 5
}
